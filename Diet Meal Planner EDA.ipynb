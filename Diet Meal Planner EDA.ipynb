{
 "cells": [
  {
   "cell_type": "markdown",
   "metadata": {},
   "source": [
    "## This notebook will go through the processed csv and perform exploratory data analysis to find any issues that need to be fixed before model creation"
   ]
  },
  {
   "cell_type": "code",
   "execution_count": 1,
   "metadata": {},
   "outputs": [],
   "source": [
    "#import libraries\n",
    "import numpy as np\n",
    "import pandas as pd\n",
    "import plotly.express as px\n",
    "import plotly.graph_objects as go\n",
    "from IPython.display import display\n",
    "import sweetviz as sv"
   ]
  },
  {
   "cell_type": "markdown",
   "metadata": {},
   "source": [
    "## Data Dictionary\n",
    "- FoodID : Unique Identifier for the food (numerical)\n",
    "- FoodDescription : Name and contents of the food (text)\n",
    "- FoodGroup : 23 Groups of food (categorical)\n",
    "- PROTValue : Value of Protein Nutreint in the food in g/100g\n",
    "- FATValue : Value of Total Fat in the food in g/100g\n",
    "- CARBValue : Value of Total Carbohydrate in the food in g/100g\n",
    "- STARValue : Value of Starch in Carbohydrates in g/100g\n",
    "- TSUGValue : Value of Sugar in Carbohydrates in g/100g\n",
    "- TDFValue : Value of Dietary Fibre in Carbohydrates in g/100g\n",
    "- TSATValue : Value of Saturated Fat in Fats in g/100g\n",
    "- MUFAValue : Value of Monounsaturated Fat in Fats in g/100g\n",
    "- PUFAValue : Value of Polyunsaturated Fat in Fats in g/100g"
   ]
  },
  {
   "cell_type": "markdown",
   "metadata": {},
   "source": [
    "## Important Information\n",
    "- Get the user's age, height in cm, weight in kg and gender for user profile building\n",
    "- Using Harris-Benedict Equation (Needs.pdf) for Basal Energy Expenditure (BEE), find the calorie intake required per day\n",
    "- Requirement of Protein in grams = weight in kg\n",
    "- Calorie of Protein = 4 * Protein in grams\n",
    "- Find out the percentage of protein by dividing protein calorie by total calorie\n",
    "- 60% of Calories should be Carbohydrates with more TDF,STAR and less TSUG\n",
    "- Calculate carbohydrates in grams using CalorieCount/4\n",
    "- Leftover calories need to be Fat with more MUFA,PUFA and less TSAT\n",
    "- Calculate fat in grams using CalorieCount/9\n",
    "- Input will be the requirement of Carbohydrates,Proteins,Fats calculated above\n",
    "- Output should be Foods that meet the needs with carbohydrates favoring TDF and STAR and Fats favoring MUFA and PUFA\n",
    "- TSAT should not be more than 10% of Fat intake\n",
    "- TSUG should not be more than 10% of Carbohydrate intake"
   ]
  },
  {
   "cell_type": "code",
   "execution_count": 2,
   "metadata": {},
   "outputs": [
    {
     "data": {
      "text/html": [
       "<div>\n",
       "<style scoped>\n",
       "    .dataframe tbody tr th:only-of-type {\n",
       "        vertical-align: middle;\n",
       "    }\n",
       "\n",
       "    .dataframe tbody tr th {\n",
       "        vertical-align: top;\n",
       "    }\n",
       "\n",
       "    .dataframe thead th {\n",
       "        text-align: right;\n",
       "    }\n",
       "</style>\n",
       "<table border=\"1\" class=\"dataframe\">\n",
       "  <thead>\n",
       "    <tr style=\"text-align: right;\">\n",
       "      <th></th>\n",
       "      <th>FoodID</th>\n",
       "      <th>FoodDescription</th>\n",
       "      <th>FoodGroup</th>\n",
       "      <th>PROTValue</th>\n",
       "      <th>FATValue</th>\n",
       "      <th>CARBValue</th>\n",
       "      <th>STARValue</th>\n",
       "      <th>TSUGValue</th>\n",
       "      <th>TDFValue</th>\n",
       "      <th>TSATValue</th>\n",
       "      <th>MUFAValue</th>\n",
       "      <th>PUFAValue</th>\n",
       "    </tr>\n",
       "  </thead>\n",
       "  <tbody>\n",
       "    <tr>\n",
       "      <th>0</th>\n",
       "      <td>2</td>\n",
       "      <td>Cheese souffle</td>\n",
       "      <td>Mixed Dishes</td>\n",
       "      <td>9.54</td>\n",
       "      <td>15.70</td>\n",
       "      <td>5.91</td>\n",
       "      <td>0.00</td>\n",
       "      <td>2.66</td>\n",
       "      <td>0.1</td>\n",
       "      <td>5.742</td>\n",
       "      <td>5.820</td>\n",
       "      <td>2.770</td>\n",
       "    </tr>\n",
       "    <tr>\n",
       "      <th>1</th>\n",
       "      <td>4</td>\n",
       "      <td>Chop suey, with meat, canned</td>\n",
       "      <td>Mixed Dishes</td>\n",
       "      <td>4.07</td>\n",
       "      <td>2.80</td>\n",
       "      <td>5.29</td>\n",
       "      <td>0.00</td>\n",
       "      <td>3.40</td>\n",
       "      <td>1.1</td>\n",
       "      <td>0.364</td>\n",
       "      <td>1.540</td>\n",
       "      <td>0.750</td>\n",
       "    </tr>\n",
       "    <tr>\n",
       "      <th>2</th>\n",
       "      <td>5</td>\n",
       "      <td>Chinese dish, chow mein, chicken</td>\n",
       "      <td>Mixed Dishes</td>\n",
       "      <td>6.76</td>\n",
       "      <td>2.80</td>\n",
       "      <td>8.29</td>\n",
       "      <td>3.99</td>\n",
       "      <td>1.74</td>\n",
       "      <td>1.0</td>\n",
       "      <td>0.490</td>\n",
       "      <td>0.613</td>\n",
       "      <td>1.226</td>\n",
       "    </tr>\n",
       "    <tr>\n",
       "      <th>3</th>\n",
       "      <td>6</td>\n",
       "      <td>Corn fritter</td>\n",
       "      <td>Baked Products</td>\n",
       "      <td>8.55</td>\n",
       "      <td>21.24</td>\n",
       "      <td>38.62</td>\n",
       "      <td>0.00</td>\n",
       "      <td>2.85</td>\n",
       "      <td>2.0</td>\n",
       "      <td>5.455</td>\n",
       "      <td>8.543</td>\n",
       "      <td>5.564</td>\n",
       "    </tr>\n",
       "    <tr>\n",
       "      <th>4</th>\n",
       "      <td>7</td>\n",
       "      <td>Beef pot roast, with browned potatoes, peas an...</td>\n",
       "      <td>Mixed Dishes</td>\n",
       "      <td>21.29</td>\n",
       "      <td>5.25</td>\n",
       "      <td>10.72</td>\n",
       "      <td>0.00</td>\n",
       "      <td>1.44</td>\n",
       "      <td>1.6</td>\n",
       "      <td>1.872</td>\n",
       "      <td>2.552</td>\n",
       "      <td>0.709</td>\n",
       "    </tr>\n",
       "  </tbody>\n",
       "</table>\n",
       "</div>"
      ],
      "text/plain": [
       "   FoodID                                    FoodDescription       FoodGroup  \\\n",
       "0       2                                     Cheese souffle    Mixed Dishes   \n",
       "1       4                       Chop suey, with meat, canned    Mixed Dishes   \n",
       "2       5                   Chinese dish, chow mein, chicken    Mixed Dishes   \n",
       "3       6                                       Corn fritter  Baked Products   \n",
       "4       7  Beef pot roast, with browned potatoes, peas an...    Mixed Dishes   \n",
       "\n",
       "   PROTValue  FATValue  CARBValue  STARValue  TSUGValue  TDFValue  TSATValue  \\\n",
       "0       9.54     15.70       5.91       0.00       2.66       0.1      5.742   \n",
       "1       4.07      2.80       5.29       0.00       3.40       1.1      0.364   \n",
       "2       6.76      2.80       8.29       3.99       1.74       1.0      0.490   \n",
       "3       8.55     21.24      38.62       0.00       2.85       2.0      5.455   \n",
       "4      21.29      5.25      10.72       0.00       1.44       1.6      1.872   \n",
       "\n",
       "   MUFAValue  PUFAValue  \n",
       "0      5.820      2.770  \n",
       "1      1.540      0.750  \n",
       "2      0.613      1.226  \n",
       "3      8.543      5.564  \n",
       "4      2.552      0.709  "
      ]
     },
     "metadata": {},
     "output_type": "display_data"
    }
   ],
   "source": [
    "food_data_df = pd.read_csv('FoodNutritionData.csv')\n",
    "display(food_data_df.head(5))"
   ]
  },
  {
   "cell_type": "code",
   "execution_count": 3,
   "metadata": {},
   "outputs": [
    {
     "name": "stderr",
     "output_type": "stream",
     "text": [
      ":FEATURES DONE:                    |█████████████████████| [100%]   00:05  -> (00:00 left)\n",
      ":PAIRWISE DONE:                    |█████████████████████| [100%]   00:00  -> (00:00 left)\n"
     ]
    },
    {
     "name": "stdout",
     "output_type": "stream",
     "text": [
      "Creating Associations graph... DONE!\n",
      "Report SWEETVIZ_REPORT.html was generated! NOTEBOOK/COLAB USERS: no browser will pop up, the report is saved in your notebook/colab files.\n"
     ]
    }
   ],
   "source": [
    "sv_analyzer = sv.analyze(food_data_df)\n",
    "sv_analyzer.show_html()"
   ]
  },
  {
   "cell_type": "code",
   "execution_count": null,
   "metadata": {},
   "outputs": [],
   "source": []
  }
 ],
 "metadata": {
  "kernelspec": {
   "display_name": "Python 3",
   "language": "python",
   "name": "python3"
  },
  "language_info": {
   "codemirror_mode": {
    "name": "ipython",
    "version": 3
   },
   "file_extension": ".py",
   "mimetype": "text/x-python",
   "name": "python",
   "nbconvert_exporter": "python",
   "pygments_lexer": "ipython3",
   "version": "3.8.5"
  }
 },
 "nbformat": 4,
 "nbformat_minor": 4
}
